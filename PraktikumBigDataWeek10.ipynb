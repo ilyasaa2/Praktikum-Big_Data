{
 "cells": [
  {
   "cell_type": "code",
   "execution_count": 7,
   "id": "20007fca-f940-4f2a-93fe-62b68a321ed2",
   "metadata": {},
   "outputs": [
    {
     "name": "stdout",
     "output_type": "stream",
     "text": [
      "Connected to MongoDB\n"
     ]
    }
   ],
   "source": [
    "from pymongo import MongoClient\n",
    "\n",
    "# Inisialisasi client dan koneksi ke database\n",
    "client = MongoClient('mongodb://localhost:27017/')\n",
    "db = client['company_db']\n",
    "collection = db['employees']\n",
    "\n",
    "# Contoh untuk memastikan koneksi\n",
    "print('Connected to MongoDB')\n"
   ]
  },
  {
   "cell_type": "code",
   "execution_count": 30,
   "id": "7aa63eeb-2069-4d6d-a5e8-881ed3a924ca",
   "metadata": {},
   "outputs": [
    {
     "name": "stdout",
     "output_type": "stream",
     "text": [
      "✅ Data karyawan berhasil diperbarui\n",
      "{'_id': ObjectId('6902c23b0f528dcaeebc7109'), 'nama': 'Budi Santoso', 'departemen': 'Keuangan', 'usia': 29, 'gaji': 4500000}\n",
      "{'_id': ObjectId('6902c23b0f528dcaeebc710a'), 'nama': 'Rudi Hartono', 'departemen': 'Keuangan', 'usia': 25, 'gaji': 4800000}\n",
      "{'_id': ObjectId('6902c23b0f528dcaeebc710b'), 'nama': 'Slamet Riyadi', 'departemen': 'Keuangan', 'usia': 32, 'gaji': 5200000}\n",
      "{'_id': ObjectId('6902c23b0f528dcaeebc710c'), 'nama': 'Dian Puspita', 'departemen': 'Keuangan', 'usia': 28, 'gaji': 5000000}\n",
      "{'_id': ObjectId('6902c23b0f528dcaeebc710d'), 'nama': 'Rina Ayu', 'departemen': 'Keuangan', 'usia': 35, 'gaji': 6200000}\n",
      "{'_id': ObjectId('6902c23b0f528dcaeebc710e'), 'nama': 'Agus Prabowo', 'departemen': 'Keuangan', 'usia': 30, 'gaji': 6100000}\n",
      "{'_id': ObjectId('6902c23b0f528dcaeebc710f'), 'nama': 'Siti Rahma', 'departemen': 'IT', 'usia': 31, 'gaji': 6500000}\n",
      "{'_id': ObjectId('6902c23b0f528dcaeebc7110'), 'nama': 'Dewi Lestari', 'departemen': 'IT', 'usia': 35, 'gaji': 7500000}\n",
      "{'_id': ObjectId('6902c23b0f528dcaeebc7111'), 'nama': 'Teguh Saputra', 'departemen': 'IT', 'usia': 29, 'gaji': 7200000}\n",
      "{'_id': ObjectId('6902c23b0f528dcaeebc7112'), 'nama': 'Andika Pratama', 'departemen': 'IT', 'usia': 27, 'gaji': 6800000}\n",
      "{'_id': ObjectId('6902c23b0f528dcaeebc7113'), 'nama': 'Yusuf Hadi', 'departemen': 'IT', 'usia': 26, 'gaji': 6300000}\n",
      "{'_id': ObjectId('6902c23b0f528dcaeebc7114'), 'nama': 'Nur Aini', 'departemen': 'IT', 'usia': 33, 'gaji': 7000000}\n",
      "{'_id': ObjectId('6902c23b0f528dcaeebc7115'), 'nama': 'Andi Pratama', 'departemen': 'HRD', 'usia': 27, 'gaji': 5200000}\n",
      "{'_id': ObjectId('6902c23b0f528dcaeebc7116'), 'nama': 'Ratna Sari', 'departemen': 'HRD', 'usia': 30, 'gaji': 5400000}\n",
      "{'_id': ObjectId('6902c23b0f528dcaeebc7117'), 'nama': 'Dwi Handoko', 'departemen': 'HRD', 'usia': 28, 'gaji': 5100000}\n",
      "{'_id': ObjectId('6902c23b0f528dcaeebc7118'), 'nama': 'Fitriani', 'departemen': 'HRD', 'usia': 32, 'gaji': 5600000}\n",
      "{'_id': ObjectId('6902c23b0f528dcaeebc7119'), 'nama': 'Reza Maulana', 'departemen': 'HRD', 'usia': 35, 'gaji': 5800000}\n",
      "{'_id': ObjectId('6902c23b0f528dcaeebc711a'), 'nama': 'Fitriani', 'departemen': 'Pemasaran', 'usia': 30, 'gaji': 6000000}\n",
      "{'_id': ObjectId('6902c23b0f528dcaeebc711b'), 'nama': 'Lina Marlina', 'departemen': 'Pemasaran', 'usia': 27, 'gaji': 5900000}\n",
      "{'_id': ObjectId('6902c23b0f528dcaeebc711c'), 'nama': 'Fajar Nugroho', 'departemen': 'Pemasaran', 'usia': 29, 'gaji': 6500000}\n",
      "{'_id': ObjectId('6902c23b0f528dcaeebc711d'), 'nama': 'Ahmad Zulkifli', 'departemen': 'Pemasaran', 'usia': 31, 'gaji': 6200000}\n",
      "{'_id': ObjectId('6902c23b0f528dcaeebc711e'), 'nama': 'Tania Putri', 'departemen': 'Pemasaran', 'usia': 34, 'gaji': 6700000}\n",
      "{'_id': ObjectId('6902c23b0f528dcaeebc711f'), 'nama': 'Riko Santosa', 'departemen': 'Pemasaran', 'usia': 28, 'gaji': 6100000}\n"
     ]
    }
   ],
   "source": [
    "employee_data = [\n",
    "    # Departemen Keuangan\n",
    "    {'nama': 'Budi Santoso', 'departemen': 'Keuangan', 'usia': 29, 'gaji': 4500000},\n",
    "    {'nama': 'Rudi Hartono', 'departemen': 'Keuangan', 'usia': 25, 'gaji': 4800000},\n",
    "    {'nama': 'Slamet Riyadi', 'departemen': 'Keuangan', 'usia': 32, 'gaji': 5200000},\n",
    "    {'nama': 'Dian Puspita', 'departemen': 'Keuangan', 'usia': 28, 'gaji': 5000000},\n",
    "    {'nama': 'Rina Ayu', 'departemen': 'Keuangan', 'usia': 35, 'gaji': 6200000},\n",
    "    {'nama': 'Agus Prabowo', 'departemen': 'Keuangan', 'usia': 30, 'gaji': 6100000},\n",
    "\n",
    "    # Departemen IT\n",
    "    {'nama': 'Siti Rahma', 'departemen': 'IT', 'usia': 31, 'gaji': 6500000},\n",
    "    {'nama': 'Dewi Lestari', 'departemen': 'IT', 'usia': 35, 'gaji': 7500000},\n",
    "    {'nama': 'Teguh Saputra', 'departemen': 'IT', 'usia': 29, 'gaji': 7200000},\n",
    "    {'nama': 'Andika Pratama', 'departemen': 'IT', 'usia': 27, 'gaji': 6800000},\n",
    "    {'nama': 'Yusuf Hadi', 'departemen': 'IT', 'usia': 26, 'gaji': 6300000},\n",
    "    {'nama': 'Nur Aini', 'departemen': 'IT', 'usia': 33, 'gaji': 7000000},\n",
    "\n",
    "    # Departemen HRD\n",
    "    {'nama': 'Andi Pratama', 'departemen': 'HRD', 'usia': 27, 'gaji': 5200000},\n",
    "    {'nama': 'Ratna Sari', 'departemen': 'HRD', 'usia': 30, 'gaji': 5400000},\n",
    "    {'nama': 'Dwi Handoko', 'departemen': 'HRD', 'usia': 28, 'gaji': 5100000},\n",
    "    {'nama': 'Fitriani', 'departemen': 'HRD', 'usia': 32, 'gaji': 5600000},\n",
    "    {'nama': 'Reza Maulana', 'departemen': 'HRD', 'usia': 35, 'gaji': 5800000},\n",
    "\n",
    "    # Departemen Pemasaran\n",
    "    {'nama': 'Fitriani', 'departemen': 'Pemasaran', 'usia': 30, 'gaji': 6000000},\n",
    "    {'nama': 'Lina Marlina', 'departemen': 'Pemasaran', 'usia': 27, 'gaji': 5900000},\n",
    "    {'nama': 'Fajar Nugroho', 'departemen': 'Pemasaran', 'usia': 29, 'gaji': 6500000},\n",
    "    {'nama': 'Ahmad Zulkifli', 'departemen': 'Pemasaran', 'usia': 31, 'gaji': 6200000},\n",
    "    {'nama': 'Tania Putri', 'departemen': 'Pemasaran', 'usia': 34, 'gaji': 6700000},\n",
    "    {'nama': 'Riko Santosa', 'departemen': 'Pemasaran', 'usia': 28, 'gaji': 6100000}\n",
    "]\n",
    "\n",
    "collection.insert_many(employee_data)\n",
    "print(\"✅ Data karyawan berhasil diperbarui\")\n",
    "\n",
    "for employee in collection.find():\n",
    "    print(employee)"
   ]
  },
  {
   "cell_type": "code",
   "execution_count": 31,
   "id": "f11ebe4f-f1df-4b95-9f42-d2d953b1a21e",
   "metadata": {},
   "outputs": [
    {
     "name": "stdout",
     "output_type": "stream",
     "text": [
      "{'_id': 'Pemasaran', 'rata_gaji': 6233333.333333333}\n",
      "{'_id': 'Keuangan', 'rata_gaji': 5300000.0}\n",
      "{'_id': 'HRD', 'rata_gaji': 5420000.0}\n",
      "{'_id': 'IT', 'rata_gaji': 6883333.333333333}\n"
     ]
    }
   ],
   "source": [
    "# Query Aggregation untuk mencari rata-rata gaji per departemen\n",
    "pipeline = [\n",
    "    {'$group': {'_id': '$departemen', 'rata_gaji': {'$avg': '$gaji'}}}\n",
    "]\n",
    "for result in collection.aggregate(pipeline):\n",
    "    print(result)"
   ]
  },
  {
   "cell_type": "code",
   "execution_count": 10,
   "id": "f3604871-1b0c-4fd6-9911-be67c2b6e747",
   "metadata": {},
   "outputs": [
    {
     "name": "stdout",
     "output_type": "stream",
     "text": [
      "✅ 10 produk berhasil dimasukkan\n"
     ]
    }
   ],
   "source": [
    "produk = db['produk']\n",
    "\n",
    "data_produk = [\n",
    "    {'nama': 'Kopi Kapal Api', 'kategori': 'Minuman', 'harga': 12000},\n",
    "    {'nama': 'Indomie Goreng', 'kategori': 'Makanan', 'harga': 3500},\n",
    "    {'nama': 'Teh Botol Sosro', 'kategori': 'Minuman', 'harga': 6000},\n",
    "    {'nama': 'Rinso Cair', 'kategori': 'Kebutuhan Rumah', 'harga': 18000},\n",
    "    {'nama': 'Sunlight', 'kategori': 'Kebutuhan Rumah', 'harga': 10000},\n",
    "    {'nama': 'Pulpen Pilot', 'kategori': 'Alat Tulis', 'harga': 5000},\n",
    "    {'nama': 'Buku Tulis Sinar Dunia', 'kategori': 'Alat Tulis', 'harga': 7000},\n",
    "    {'nama': 'Good Day Cappuccino', 'kategori': 'Minuman', 'harga': 8000},\n",
    "    {'nama': 'Chitato', 'kategori': 'Makanan', 'harga': 9000},\n",
    "    {'nama': 'Pepsodent', 'kategori': 'Kebutuhan Rumah', 'harga': 12000}\n",
    "]\n",
    "produk.insert_many(data_produk)\n",
    "print(\"✅ 10 produk berhasil dimasukkan\")\n"
   ]
  },
  {
   "cell_type": "code",
   "execution_count": 11,
   "id": "dccebd96-1002-4686-ac7a-561d23fc8fd3",
   "metadata": {},
   "outputs": [
    {
     "name": "stdout",
     "output_type": "stream",
     "text": [
      "💰 Rata-rata harga produk: 9050.00\n",
      "\n",
      "Produk dengan harga di atas rata-rata:\n",
      "{'_id': ObjectId('6902be000f528dcaeebc70f0'), 'nama': 'Kopi Kapal Api', 'kategori': 'Minuman', 'harga': 12000}\n",
      "{'_id': ObjectId('6902be000f528dcaeebc70f3'), 'nama': 'Rinso Cair', 'kategori': 'Kebutuhan Rumah', 'harga': 18000}\n",
      "{'_id': ObjectId('6902be000f528dcaeebc70f4'), 'nama': 'Sunlight', 'kategori': 'Kebutuhan Rumah', 'harga': 10000}\n",
      "{'_id': ObjectId('6902be000f528dcaeebc70f9'), 'nama': 'Pepsodent', 'kategori': 'Kebutuhan Rumah', 'harga': 12000}\n"
     ]
    }
   ],
   "source": [
    "rata_harga = list(produk.aggregate([\n",
    "    {'$group': {'_id': None, 'rata_harga': {'$avg': '$harga'}}}\n",
    "]))[0]['rata_harga']\n",
    "\n",
    "print(f\"💰 Rata-rata harga produk: {rata_harga:.2f}\\n\")\n",
    "print(\"Produk dengan harga di atas rata-rata:\")\n",
    "for item in produk.find({'harga': {'$gt': rata_harga}}):\n",
    "    print(item)\n"
   ]
  },
  {
   "cell_type": "code",
   "execution_count": 13,
   "id": "1eab30e6-be12-4f3e-8647-6cd257ea1d2a",
   "metadata": {},
   "outputs": [
    {
     "name": "stdout",
     "output_type": "stream",
     "text": [
      "{'_id': 'Kebutuhan Rumah', 'jumlah_produk': 3}\n",
      "{'_id': 'Minuman', 'jumlah_produk': 3}\n",
      "{'_id': 'Alat Tulis', 'jumlah_produk': 2}\n",
      "{'_id': 'Makanan', 'jumlah_produk': 2}\n"
     ]
    }
   ],
   "source": [
    "pipeline = [\n",
    "    {'$group': {'_id': '$kategori', 'jumlah_produk': {'$sum': 1}}}\n",
    "]\n",
    "\n",
    "for hasil in produk.aggregate(pipeline):\n",
    "    print(hasil)"
   ]
  },
  {
   "cell_type": "code",
   "execution_count": 26,
   "id": "a502d95d-7842-4d10-88c7-a5602cfd14ea",
   "metadata": {},
   "outputs": [
    {
     "name": "stdout",
     "output_type": "stream",
     "text": [
      "{'_id': 'Pemasaran', 'karyawan_teratas': [{'nama': 'Indah Permatasari', 'gaji': 6100000}, {'nama': 'Fitriani', 'gaji': 6000000}, {'nama': 'Mega Anggraini', 'gaji': 5800000}]}\n",
      "{'_id': 'Keuangan', 'karyawan_teratas': [{'nama': 'Bagus Hidayat', 'gaji': 7000000}, {'nama': 'Rudi Hartono', 'gaji': 4800000}, {'nama': 'Budi Santoso', 'gaji': 4500000}]}\n",
      "{'_id': 'Produksi', 'karyawan_teratas': [{'nama': 'Agus Saputra', 'gaji': 5500000}, {'nama': 'Tini Marlina', 'gaji': 5300000}]}\n",
      "{'_id': 'HRD', 'karyawan_teratas': [{'nama': 'Hendra Kurniawan', 'gaji': 6800000}, {'nama': 'Andi Pratama', 'gaji': 5200000}, {'nama': 'Ratna Wulandari', 'gaji': 5000000}]}\n",
      "{'_id': 'IT', 'karyawan_teratas': [{'nama': 'Dewi Lestari', 'gaji': 7500000}, {'nama': 'Siti Rahma', 'gaji': 6500000}, {'nama': 'Eko Prasetyo', 'gaji': 6200000}, {'nama': 'Joko Saputra', 'gaji': 4700000}]}\n"
     ]
    }
   ],
   "source": [
    "pipeline = [\n",
    "    {'$sort': {'departemen': 1, 'gaji': -1}},\n",
    "    {'$group': {\n",
    "        '_id': '$departemen',\n",
    "        'karyawan_teratas': {'$push': {'nama': '$nama', 'gaji': '$gaji'}}\n",
    "    }},\n",
    "    {'$project': {\n",
    "        'karyawan_teratas': {'$slice': ['$karyawan_teratas', 5]}\n",
    "    }}\n",
    "]\n",
    "\n",
    "for hasil in collection.aggregate(pipeline):\n",
    "    print(hasil)"
   ]
  },
  {
   "cell_type": "code",
   "execution_count": 8,
   "id": "0a4fe66b-0834-4877-a8aa-18e28ba65eff",
   "metadata": {},
   "outputs": [
    {
     "ename": "ServerSelectionTimeoutError",
     "evalue": "localhost:27017: [Errno 111] Connection refused (configured timeouts: socketTimeoutMS: 20000.0ms, connectTimeoutMS: 20000.0ms), Timeout: 30s, Topology Description: <TopologyDescription id: 6902c747325ec8774e8facfe, topology_type: Unknown, servers: [<ServerDescription ('localhost', 27017) server_type: Unknown, rtt: None, error=AutoReconnect('localhost:27017: [Errno 111] Connection refused (configured timeouts: socketTimeoutMS: 20000.0ms, connectTimeoutMS: 20000.0ms)')>]>",
     "output_type": "error",
     "traceback": [
      "\u001b[31m---------------------------------------------------------------------------\u001b[39m",
      "\u001b[31mServerSelectionTimeoutError\u001b[39m               Traceback (most recent call last)",
      "\u001b[36mCell\u001b[39m\u001b[36m \u001b[39m\u001b[32mIn[8]\u001b[39m\u001b[32m, line 10\u001b[39m\n\u001b[32m      1\u001b[39m \u001b[38;5;66;03m# ===== TAMBAH DATA KARYAWAN TERMASUK YANG USIA < 25 =====\u001b[39;00m\n\u001b[32m      2\u001b[39m karyawan_baru = [\n\u001b[32m      3\u001b[39m     {\u001b[33m'\u001b[39m\u001b[33mnama\u001b[39m\u001b[33m'\u001b[39m: \u001b[33m'\u001b[39m\u001b[33mRina Sari\u001b[39m\u001b[33m'\u001b[39m, \u001b[33m'\u001b[39m\u001b[33mdepartemen\u001b[39m\u001b[33m'\u001b[39m: \u001b[33m'\u001b[39m\u001b[33mKeuangan\u001b[39m\u001b[33m'\u001b[39m, \u001b[33m'\u001b[39m\u001b[33musia\u001b[39m\u001b[33m'\u001b[39m: \u001b[32m23\u001b[39m, \u001b[33m'\u001b[39m\u001b[33mgaji\u001b[39m\u001b[33m'\u001b[39m: \u001b[32m4200000\u001b[39m},\n\u001b[32m      4\u001b[39m     {\u001b[33m'\u001b[39m\u001b[33mnama\u001b[39m\u001b[33m'\u001b[39m: \u001b[33m'\u001b[39m\u001b[33mFajar Hidayat\u001b[39m\u001b[33m'\u001b[39m, \u001b[33m'\u001b[39m\u001b[33mdepartemen\u001b[39m\u001b[33m'\u001b[39m: \u001b[33m'\u001b[39m\u001b[33mIT\u001b[39m\u001b[33m'\u001b[39m, \u001b[33m'\u001b[39m\u001b[33musia\u001b[39m\u001b[33m'\u001b[39m: \u001b[32m24\u001b[39m, \u001b[33m'\u001b[39m\u001b[33mgaji\u001b[39m\u001b[33m'\u001b[39m: \u001b[32m5500000\u001b[39m},\n\u001b[32m   (...)\u001b[39m\u001b[32m      7\u001b[39m     {\u001b[33m'\u001b[39m\u001b[33mnama\u001b[39m\u001b[33m'\u001b[39m: \u001b[33m'\u001b[39m\u001b[33mRizki Ananda\u001b[39m\u001b[33m'\u001b[39m, \u001b[33m'\u001b[39m\u001b[33mdepartemen\u001b[39m\u001b[33m'\u001b[39m: \u001b[33m'\u001b[39m\u001b[33mKeuangan\u001b[39m\u001b[33m'\u001b[39m, \u001b[33m'\u001b[39m\u001b[33musia\u001b[39m\u001b[33m'\u001b[39m: \u001b[32m20\u001b[39m, \u001b[33m'\u001b[39m\u001b[33mgaji\u001b[39m\u001b[33m'\u001b[39m: \u001b[32m3700000\u001b[39m}\n\u001b[32m      8\u001b[39m ]\n\u001b[32m---> \u001b[39m\u001b[32m10\u001b[39m collection.insert_many(karyawan_baru)\n\u001b[32m     11\u001b[39m \u001b[38;5;28mprint\u001b[39m(\u001b[33m\"\u001b[39m\u001b[33m✅ Data karyawan baru berhasil ditambahkan!\u001b[39m\u001b[33m\"\u001b[39m)\n",
      "\u001b[36mFile \u001b[39m\u001b[32m~/anaconda3/envs/Ilyasa/lib/python3.13/site-packages/pymongo/_csot.py:119\u001b[39m, in \u001b[36mapply.<locals>.csot_wrapper\u001b[39m\u001b[34m(self, *args, **kwargs)\u001b[39m\n\u001b[32m    117\u001b[39m         \u001b[38;5;28;01mwith\u001b[39;00m _TimeoutContext(timeout):\n\u001b[32m    118\u001b[39m             \u001b[38;5;28;01mreturn\u001b[39;00m func(\u001b[38;5;28mself\u001b[39m, *args, **kwargs)\n\u001b[32m--> \u001b[39m\u001b[32m119\u001b[39m \u001b[38;5;28;01mreturn\u001b[39;00m func(\u001b[38;5;28mself\u001b[39m, *args, **kwargs)\n",
      "\u001b[36mFile \u001b[39m\u001b[32m~/anaconda3/envs/Ilyasa/lib/python3.13/site-packages/pymongo/synchronous/collection.py:975\u001b[39m, in \u001b[36mCollection.insert_many\u001b[39m\u001b[34m(self, documents, ordered, bypass_document_validation, session, comment)\u001b[39m\n\u001b[32m    973\u001b[39m blk = _Bulk(\u001b[38;5;28mself\u001b[39m, ordered, bypass_document_validation, comment=comment)\n\u001b[32m    974\u001b[39m blk.ops = \u001b[38;5;28mlist\u001b[39m(gen())\n\u001b[32m--> \u001b[39m\u001b[32m975\u001b[39m blk.execute(write_concern, session, _Op.INSERT)\n\u001b[32m    976\u001b[39m \u001b[38;5;28;01mreturn\u001b[39;00m InsertManyResult(inserted_ids, write_concern.acknowledged)\n",
      "\u001b[36mFile \u001b[39m\u001b[32m~/anaconda3/envs/Ilyasa/lib/python3.13/site-packages/pymongo/synchronous/bulk.py:751\u001b[39m, in \u001b[36m_Bulk.execute\u001b[39m\u001b[34m(self, write_concern, session, operation)\u001b[39m\n\u001b[32m    749\u001b[39m         \u001b[38;5;28;01mreturn\u001b[39;00m \u001b[38;5;28;01mNone\u001b[39;00m\n\u001b[32m    750\u001b[39m \u001b[38;5;28;01melse\u001b[39;00m:\n\u001b[32m--> \u001b[39m\u001b[32m751\u001b[39m     \u001b[38;5;28;01mreturn\u001b[39;00m \u001b[38;5;28mself\u001b[39m.execute_command(generator, write_concern, session, operation)\n",
      "\u001b[36mFile \u001b[39m\u001b[32m~/anaconda3/envs/Ilyasa/lib/python3.13/site-packages/pymongo/synchronous/bulk.py:604\u001b[39m, in \u001b[36m_Bulk.execute_command\u001b[39m\u001b[34m(self, generator, write_concern, session, operation)\u001b[39m\n\u001b[32m    593\u001b[39m     \u001b[38;5;28mself\u001b[39m._execute_command(\n\u001b[32m    594\u001b[39m         generator,\n\u001b[32m    595\u001b[39m         write_concern,\n\u001b[32m   (...)\u001b[39m\u001b[32m    600\u001b[39m         full_result,\n\u001b[32m    601\u001b[39m     )\n\u001b[32m    603\u001b[39m client = \u001b[38;5;28mself\u001b[39m.collection.database.client\n\u001b[32m--> \u001b[39m\u001b[32m604\u001b[39m _ = client._retryable_write(\n\u001b[32m    605\u001b[39m     \u001b[38;5;28mself\u001b[39m.is_retryable,\n\u001b[32m    606\u001b[39m     retryable_bulk,\n\u001b[32m    607\u001b[39m     session,\n\u001b[32m    608\u001b[39m     operation,\n\u001b[32m    609\u001b[39m     bulk=\u001b[38;5;28mself\u001b[39m,  \u001b[38;5;66;03m# type: ignore[arg-type]\u001b[39;00m\n\u001b[32m    610\u001b[39m     operation_id=op_id,\n\u001b[32m    611\u001b[39m )\n\u001b[32m    613\u001b[39m \u001b[38;5;28;01mif\u001b[39;00m full_result[\u001b[33m\"\u001b[39m\u001b[33mwriteErrors\u001b[39m\u001b[33m\"\u001b[39m] \u001b[38;5;129;01mor\u001b[39;00m full_result[\u001b[33m\"\u001b[39m\u001b[33mwriteConcernErrors\u001b[39m\u001b[33m\"\u001b[39m]:\n\u001b[32m    614\u001b[39m     _raise_bulk_write_error(full_result)\n",
      "\u001b[36mFile \u001b[39m\u001b[32m~/anaconda3/envs/Ilyasa/lib/python3.13/site-packages/pymongo/synchronous/mongo_client.py:2061\u001b[39m, in \u001b[36mMongoClient._retryable_write\u001b[39m\u001b[34m(self, retryable, func, session, operation, bulk, operation_id)\u001b[39m\n\u001b[32m   2047\u001b[39m \u001b[38;5;250m\u001b[39m\u001b[33;03m\"\"\"Execute an operation with consecutive retries if possible\u001b[39;00m\n\u001b[32m   2048\u001b[39m \n\u001b[32m   2049\u001b[39m \u001b[33;03mReturns func()'s return value on success. On error retries the same\u001b[39;00m\n\u001b[32m   (...)\u001b[39m\u001b[32m   2058\u001b[39m \u001b[33;03m:param bulk: bulk abstraction to execute operations in bulk, defaults to None\u001b[39;00m\n\u001b[32m   2059\u001b[39m \u001b[33;03m\"\"\"\u001b[39;00m\n\u001b[32m   2060\u001b[39m \u001b[38;5;28;01mwith\u001b[39;00m \u001b[38;5;28mself\u001b[39m._tmp_session(session) \u001b[38;5;28;01mas\u001b[39;00m s:\n\u001b[32m-> \u001b[39m\u001b[32m2061\u001b[39m     \u001b[38;5;28;01mreturn\u001b[39;00m \u001b[38;5;28mself\u001b[39m._retry_with_session(retryable, func, s, bulk, operation, operation_id)\n",
      "\u001b[36mFile \u001b[39m\u001b[32m~/anaconda3/envs/Ilyasa/lib/python3.13/site-packages/pymongo/synchronous/mongo_client.py:1947\u001b[39m, in \u001b[36mMongoClient._retry_with_session\u001b[39m\u001b[34m(self, retryable, func, session, bulk, operation, operation_id)\u001b[39m\n\u001b[32m   1942\u001b[39m \u001b[38;5;66;03m# Ensure that the options supports retry_writes and there is a valid session not in\u001b[39;00m\n\u001b[32m   1943\u001b[39m \u001b[38;5;66;03m# transaction, otherwise, we will not support retry behavior for this txn.\u001b[39;00m\n\u001b[32m   1944\u001b[39m retryable = \u001b[38;5;28mbool\u001b[39m(\n\u001b[32m   1945\u001b[39m     retryable \u001b[38;5;129;01mand\u001b[39;00m \u001b[38;5;28mself\u001b[39m.options.retry_writes \u001b[38;5;129;01mand\u001b[39;00m session \u001b[38;5;129;01mand\u001b[39;00m \u001b[38;5;129;01mnot\u001b[39;00m session.in_transaction\n\u001b[32m   1946\u001b[39m )\n\u001b[32m-> \u001b[39m\u001b[32m1947\u001b[39m \u001b[38;5;28;01mreturn\u001b[39;00m \u001b[38;5;28mself\u001b[39m._retry_internal(\n\u001b[32m   1948\u001b[39m     func=func,\n\u001b[32m   1949\u001b[39m     session=session,\n\u001b[32m   1950\u001b[39m     bulk=bulk,\n\u001b[32m   1951\u001b[39m     operation=operation,\n\u001b[32m   1952\u001b[39m     retryable=retryable,\n\u001b[32m   1953\u001b[39m     operation_id=operation_id,\n\u001b[32m   1954\u001b[39m )\n",
      "\u001b[36mFile \u001b[39m\u001b[32m~/anaconda3/envs/Ilyasa/lib/python3.13/site-packages/pymongo/_csot.py:119\u001b[39m, in \u001b[36mapply.<locals>.csot_wrapper\u001b[39m\u001b[34m(self, *args, **kwargs)\u001b[39m\n\u001b[32m    117\u001b[39m         \u001b[38;5;28;01mwith\u001b[39;00m _TimeoutContext(timeout):\n\u001b[32m    118\u001b[39m             \u001b[38;5;28;01mreturn\u001b[39;00m func(\u001b[38;5;28mself\u001b[39m, *args, **kwargs)\n\u001b[32m--> \u001b[39m\u001b[32m119\u001b[39m \u001b[38;5;28;01mreturn\u001b[39;00m func(\u001b[38;5;28mself\u001b[39m, *args, **kwargs)\n",
      "\u001b[36mFile \u001b[39m\u001b[32m~/anaconda3/envs/Ilyasa/lib/python3.13/site-packages/pymongo/synchronous/mongo_client.py:1993\u001b[39m, in \u001b[36mMongoClient._retry_internal\u001b[39m\u001b[34m(self, func, session, bulk, operation, is_read, address, read_pref, retryable, operation_id)\u001b[39m\n\u001b[32m   1956\u001b[39m \u001b[38;5;129m@_csot\u001b[39m.apply\n\u001b[32m   1957\u001b[39m \u001b[38;5;28;01mdef\u001b[39;00m\u001b[38;5;250m \u001b[39m\u001b[34m_retry_internal\u001b[39m(\n\u001b[32m   1958\u001b[39m     \u001b[38;5;28mself\u001b[39m,\n\u001b[32m   (...)\u001b[39m\u001b[32m   1967\u001b[39m     operation_id: Optional[\u001b[38;5;28mint\u001b[39m] = \u001b[38;5;28;01mNone\u001b[39;00m,\n\u001b[32m   1968\u001b[39m ) -> T:\n\u001b[32m   1969\u001b[39m \u001b[38;5;250m    \u001b[39m\u001b[33;03m\"\"\"Internal retryable helper for all client transactions.\u001b[39;00m\n\u001b[32m   1970\u001b[39m \n\u001b[32m   1971\u001b[39m \u001b[33;03m    :param func: Callback function we want to retry\u001b[39;00m\n\u001b[32m   (...)\u001b[39m\u001b[32m   1980\u001b[39m \u001b[33;03m    :return: Output of the calling func()\u001b[39;00m\n\u001b[32m   1981\u001b[39m \u001b[33;03m    \"\"\"\u001b[39;00m\n\u001b[32m   1982\u001b[39m     \u001b[38;5;28;01mreturn\u001b[39;00m _ClientConnectionRetryable(\n\u001b[32m   1983\u001b[39m         mongo_client=\u001b[38;5;28mself\u001b[39m,\n\u001b[32m   1984\u001b[39m         func=func,\n\u001b[32m   1985\u001b[39m         bulk=bulk,\n\u001b[32m   1986\u001b[39m         operation=operation,\n\u001b[32m   1987\u001b[39m         is_read=is_read,\n\u001b[32m   1988\u001b[39m         session=session,\n\u001b[32m   1989\u001b[39m         read_pref=read_pref,\n\u001b[32m   1990\u001b[39m         address=address,\n\u001b[32m   1991\u001b[39m         retryable=retryable,\n\u001b[32m   1992\u001b[39m         operation_id=operation_id,\n\u001b[32m-> \u001b[39m\u001b[32m1993\u001b[39m     ).run()\n",
      "\u001b[36mFile \u001b[39m\u001b[32m~/anaconda3/envs/Ilyasa/lib/python3.13/site-packages/pymongo/synchronous/mongo_client.py:2730\u001b[39m, in \u001b[36m_ClientConnectionRetryable.run\u001b[39m\u001b[34m(self)\u001b[39m\n\u001b[32m   2728\u001b[39m \u001b[38;5;28mself\u001b[39m._check_last_error(check_csot=\u001b[38;5;28;01mTrue\u001b[39;00m)\n\u001b[32m   2729\u001b[39m \u001b[38;5;28;01mtry\u001b[39;00m:\n\u001b[32m-> \u001b[39m\u001b[32m2730\u001b[39m     \u001b[38;5;28;01mreturn\u001b[39;00m \u001b[38;5;28mself\u001b[39m._read() \u001b[38;5;28;01mif\u001b[39;00m \u001b[38;5;28mself\u001b[39m._is_read \u001b[38;5;28;01melse\u001b[39;00m \u001b[38;5;28mself\u001b[39m._write()\n\u001b[32m   2731\u001b[39m \u001b[38;5;28;01mexcept\u001b[39;00m ServerSelectionTimeoutError:\n\u001b[32m   2732\u001b[39m     \u001b[38;5;66;03m# The application may think the write was never attempted\u001b[39;00m\n\u001b[32m   2733\u001b[39m     \u001b[38;5;66;03m# if we raise ServerSelectionTimeoutError on the retry\u001b[39;00m\n\u001b[32m   2734\u001b[39m     \u001b[38;5;66;03m# attempt. Raise the original exception instead.\u001b[39;00m\n\u001b[32m   2735\u001b[39m     \u001b[38;5;28mself\u001b[39m._check_last_error()\n",
      "\u001b[36mFile \u001b[39m\u001b[32m~/anaconda3/envs/Ilyasa/lib/python3.13/site-packages/pymongo/synchronous/mongo_client.py:2840\u001b[39m, in \u001b[36m_ClientConnectionRetryable._write\u001b[39m\u001b[34m(self)\u001b[39m\n\u001b[32m   2838\u001b[39m max_wire_version = \u001b[32m0\u001b[39m\n\u001b[32m   2839\u001b[39m is_mongos = \u001b[38;5;28;01mFalse\u001b[39;00m\n\u001b[32m-> \u001b[39m\u001b[32m2840\u001b[39m \u001b[38;5;28mself\u001b[39m._server = \u001b[38;5;28mself\u001b[39m._get_server()\n\u001b[32m   2841\u001b[39m \u001b[38;5;28;01mwith\u001b[39;00m \u001b[38;5;28mself\u001b[39m._client._checkout(\u001b[38;5;28mself\u001b[39m._server, \u001b[38;5;28mself\u001b[39m._session) \u001b[38;5;28;01mas\u001b[39;00m conn:\n\u001b[32m   2842\u001b[39m     max_wire_version = conn.max_wire_version\n",
      "\u001b[36mFile \u001b[39m\u001b[32m~/anaconda3/envs/Ilyasa/lib/python3.13/site-packages/pymongo/synchronous/mongo_client.py:2823\u001b[39m, in \u001b[36m_ClientConnectionRetryable._get_server\u001b[39m\u001b[34m(self)\u001b[39m\n\u001b[32m   2818\u001b[39m \u001b[38;5;28;01mdef\u001b[39;00m\u001b[38;5;250m \u001b[39m\u001b[34m_get_server\u001b[39m(\u001b[38;5;28mself\u001b[39m) -> Server:\n\u001b[32m   2819\u001b[39m \u001b[38;5;250m    \u001b[39m\u001b[33;03m\"\"\"Retrieves a server object based on provided object context\u001b[39;00m\n\u001b[32m   2820\u001b[39m \n\u001b[32m   2821\u001b[39m \u001b[33;03m    :return: Abstraction to connect to server\u001b[39;00m\n\u001b[32m   2822\u001b[39m \u001b[33;03m    \"\"\"\u001b[39;00m\n\u001b[32m-> \u001b[39m\u001b[32m2823\u001b[39m     \u001b[38;5;28;01mreturn\u001b[39;00m \u001b[38;5;28mself\u001b[39m._client._select_server(\n\u001b[32m   2824\u001b[39m         \u001b[38;5;28mself\u001b[39m._server_selector,\n\u001b[32m   2825\u001b[39m         \u001b[38;5;28mself\u001b[39m._session,\n\u001b[32m   2826\u001b[39m         \u001b[38;5;28mself\u001b[39m._operation,\n\u001b[32m   2827\u001b[39m         address=\u001b[38;5;28mself\u001b[39m._address,\n\u001b[32m   2828\u001b[39m         deprioritized_servers=\u001b[38;5;28mself\u001b[39m._deprioritized_servers,\n\u001b[32m   2829\u001b[39m         operation_id=\u001b[38;5;28mself\u001b[39m._operation_id,\n\u001b[32m   2830\u001b[39m     )\n",
      "\u001b[36mFile \u001b[39m\u001b[32m~/anaconda3/envs/Ilyasa/lib/python3.13/site-packages/pymongo/synchronous/mongo_client.py:1812\u001b[39m, in \u001b[36mMongoClient._select_server\u001b[39m\u001b[34m(self, server_selector, session, operation, address, deprioritized_servers, operation_id)\u001b[39m\n\u001b[32m   1810\u001b[39m             \u001b[38;5;28;01mraise\u001b[39;00m AutoReconnect(\u001b[33m\"\u001b[39m\u001b[33mserver \u001b[39m\u001b[38;5;132;01m%s\u001b[39;00m\u001b[33m:\u001b[39m\u001b[38;5;132;01m%s\u001b[39;00m\u001b[33m no longer available\u001b[39m\u001b[33m\"\u001b[39m % address)  \u001b[38;5;66;03m# noqa: UP031\u001b[39;00m\n\u001b[32m   1811\u001b[39m     \u001b[38;5;28;01melse\u001b[39;00m:\n\u001b[32m-> \u001b[39m\u001b[32m1812\u001b[39m         server = topology.select_server(\n\u001b[32m   1813\u001b[39m             server_selector,\n\u001b[32m   1814\u001b[39m             operation,\n\u001b[32m   1815\u001b[39m             deprioritized_servers=deprioritized_servers,\n\u001b[32m   1816\u001b[39m             operation_id=operation_id,\n\u001b[32m   1817\u001b[39m         )\n\u001b[32m   1818\u001b[39m     \u001b[38;5;28;01mreturn\u001b[39;00m server\n\u001b[32m   1819\u001b[39m \u001b[38;5;28;01mexcept\u001b[39;00m PyMongoError \u001b[38;5;28;01mas\u001b[39;00m exc:\n\u001b[32m   1820\u001b[39m     \u001b[38;5;66;03m# Server selection errors in a transaction are transient.\u001b[39;00m\n",
      "\u001b[36mFile \u001b[39m\u001b[32m~/anaconda3/envs/Ilyasa/lib/python3.13/site-packages/pymongo/synchronous/topology.py:409\u001b[39m, in \u001b[36mTopology.select_server\u001b[39m\u001b[34m(self, selector, operation, server_selection_timeout, address, deprioritized_servers, operation_id)\u001b[39m\n\u001b[32m    399\u001b[39m \u001b[38;5;28;01mdef\u001b[39;00m\u001b[38;5;250m \u001b[39m\u001b[34mselect_server\u001b[39m(\n\u001b[32m    400\u001b[39m     \u001b[38;5;28mself\u001b[39m,\n\u001b[32m    401\u001b[39m     selector: Callable[[Selection], Selection],\n\u001b[32m   (...)\u001b[39m\u001b[32m    406\u001b[39m     operation_id: Optional[\u001b[38;5;28mint\u001b[39m] = \u001b[38;5;28;01mNone\u001b[39;00m,\n\u001b[32m    407\u001b[39m ) -> Server:\n\u001b[32m    408\u001b[39m \u001b[38;5;250m    \u001b[39m\u001b[33;03m\"\"\"Like select_servers, but choose a random server if several match.\"\"\"\u001b[39;00m\n\u001b[32m--> \u001b[39m\u001b[32m409\u001b[39m     server = \u001b[38;5;28mself\u001b[39m._select_server(\n\u001b[32m    410\u001b[39m         selector,\n\u001b[32m    411\u001b[39m         operation,\n\u001b[32m    412\u001b[39m         server_selection_timeout,\n\u001b[32m    413\u001b[39m         address,\n\u001b[32m    414\u001b[39m         deprioritized_servers,\n\u001b[32m    415\u001b[39m         operation_id=operation_id,\n\u001b[32m    416\u001b[39m     )\n\u001b[32m    417\u001b[39m     \u001b[38;5;28;01mif\u001b[39;00m _csot.get_timeout():\n\u001b[32m    418\u001b[39m         _csot.set_rtt(server.description.min_round_trip_time)\n",
      "\u001b[36mFile \u001b[39m\u001b[32m~/anaconda3/envs/Ilyasa/lib/python3.13/site-packages/pymongo/synchronous/topology.py:387\u001b[39m, in \u001b[36mTopology._select_server\u001b[39m\u001b[34m(self, selector, operation, server_selection_timeout, address, deprioritized_servers, operation_id)\u001b[39m\n\u001b[32m    378\u001b[39m \u001b[38;5;28;01mdef\u001b[39;00m\u001b[38;5;250m \u001b[39m\u001b[34m_select_server\u001b[39m(\n\u001b[32m    379\u001b[39m     \u001b[38;5;28mself\u001b[39m,\n\u001b[32m    380\u001b[39m     selector: Callable[[Selection], Selection],\n\u001b[32m   (...)\u001b[39m\u001b[32m    385\u001b[39m     operation_id: Optional[\u001b[38;5;28mint\u001b[39m] = \u001b[38;5;28;01mNone\u001b[39;00m,\n\u001b[32m    386\u001b[39m ) -> Server:\n\u001b[32m--> \u001b[39m\u001b[32m387\u001b[39m     servers = \u001b[38;5;28mself\u001b[39m.select_servers(\n\u001b[32m    388\u001b[39m         selector, operation, server_selection_timeout, address, operation_id\n\u001b[32m    389\u001b[39m     )\n\u001b[32m    390\u001b[39m     servers = _filter_servers(servers, deprioritized_servers)\n\u001b[32m    391\u001b[39m     \u001b[38;5;28;01mif\u001b[39;00m \u001b[38;5;28mlen\u001b[39m(servers) == \u001b[32m1\u001b[39m:\n",
      "\u001b[36mFile \u001b[39m\u001b[32m~/anaconda3/envs/Ilyasa/lib/python3.13/site-packages/pymongo/synchronous/topology.py:294\u001b[39m, in \u001b[36mTopology.select_servers\u001b[39m\u001b[34m(self, selector, operation, server_selection_timeout, address, operation_id)\u001b[39m\n\u001b[32m    291\u001b[39m     \u001b[38;5;28mself\u001b[39m.cleanup_monitors()\n\u001b[32m    293\u001b[39m \u001b[38;5;28;01mwith\u001b[39;00m \u001b[38;5;28mself\u001b[39m._lock:\n\u001b[32m--> \u001b[39m\u001b[32m294\u001b[39m     server_descriptions = \u001b[38;5;28mself\u001b[39m._select_servers_loop(\n\u001b[32m    295\u001b[39m         selector, server_timeout, operation, operation_id, address\n\u001b[32m    296\u001b[39m     )\n\u001b[32m    298\u001b[39m     \u001b[38;5;28;01mreturn\u001b[39;00m [\n\u001b[32m    299\u001b[39m         cast(Server, \u001b[38;5;28mself\u001b[39m.get_server_by_address(sd.address)) \u001b[38;5;28;01mfor\u001b[39;00m sd \u001b[38;5;129;01min\u001b[39;00m server_descriptions\n\u001b[32m    300\u001b[39m     ]\n",
      "\u001b[36mFile \u001b[39m\u001b[32m~/anaconda3/envs/Ilyasa/lib/python3.13/site-packages/pymongo/synchronous/topology.py:344\u001b[39m, in \u001b[36mTopology._select_servers_loop\u001b[39m\u001b[34m(self, selector, timeout, operation, operation_id, address)\u001b[39m\n\u001b[32m    333\u001b[39m     \u001b[38;5;28;01mif\u001b[39;00m _SERVER_SELECTION_LOGGER.isEnabledFor(logging.DEBUG):\n\u001b[32m    334\u001b[39m         _debug_log(\n\u001b[32m    335\u001b[39m             _SERVER_SELECTION_LOGGER,\n\u001b[32m    336\u001b[39m             message=_ServerSelectionStatusMessage.FAILED,\n\u001b[32m   (...)\u001b[39m\u001b[32m    342\u001b[39m             failure=\u001b[38;5;28mself\u001b[39m._error_message(selector),\n\u001b[32m    343\u001b[39m         )\n\u001b[32m--> \u001b[39m\u001b[32m344\u001b[39m     \u001b[38;5;28;01mraise\u001b[39;00m ServerSelectionTimeoutError(\n\u001b[32m    345\u001b[39m         \u001b[33mf\u001b[39m\u001b[33m\"\u001b[39m\u001b[38;5;132;01m{\u001b[39;00m\u001b[38;5;28mself\u001b[39m._error_message(selector)\u001b[38;5;132;01m}\u001b[39;00m\u001b[33m, Timeout: \u001b[39m\u001b[38;5;132;01m{\u001b[39;00mtimeout\u001b[38;5;132;01m}\u001b[39;00m\u001b[33ms, Topology Description: \u001b[39m\u001b[38;5;132;01m{\u001b[39;00m\u001b[38;5;28mself\u001b[39m.description\u001b[38;5;132;01m!r}\u001b[39;00m\u001b[33m\"\u001b[39m\n\u001b[32m    346\u001b[39m     )\n\u001b[32m    348\u001b[39m \u001b[38;5;28;01mif\u001b[39;00m \u001b[38;5;129;01mnot\u001b[39;00m logged_waiting:\n\u001b[32m    349\u001b[39m     _debug_log(\n\u001b[32m    350\u001b[39m         _SERVER_SELECTION_LOGGER,\n\u001b[32m    351\u001b[39m         message=_ServerSelectionStatusMessage.WAITING,\n\u001b[32m   (...)\u001b[39m\u001b[32m    357\u001b[39m         remainingTimeMS=\u001b[38;5;28mint\u001b[39m(\u001b[32m1000\u001b[39m * (end_time - time.monotonic())),\n\u001b[32m    358\u001b[39m     )\n",
      "\u001b[31mServerSelectionTimeoutError\u001b[39m: localhost:27017: [Errno 111] Connection refused (configured timeouts: socketTimeoutMS: 20000.0ms, connectTimeoutMS: 20000.0ms), Timeout: 30s, Topology Description: <TopologyDescription id: 6902c747325ec8774e8facfe, topology_type: Unknown, servers: [<ServerDescription ('localhost', 27017) server_type: Unknown, rtt: None, error=AutoReconnect('localhost:27017: [Errno 111] Connection refused (configured timeouts: socketTimeoutMS: 20000.0ms, connectTimeoutMS: 20000.0ms)')>]>"
     ]
    }
   ],
   "source": [
    "# ===== TAMBAH DATA KARYAWAN TERMASUK YANG USIA < 25 =====\n",
    "karyawan_baru = [\n",
    "    {'nama': 'Rina Sari', 'departemen': 'Keuangan', 'usia': 23, 'gaji': 4200000},\n",
    "    {'nama': 'Fajar Hidayat', 'departemen': 'IT', 'usia': 24, 'gaji': 5500000},\n",
    "    {'nama': 'Lutfi Ramadhan', 'departemen': 'Pemasaran', 'usia': 22, 'gaji': 4000000},\n",
    "    {'nama': 'Nadia Putri', 'departemen': 'HRD', 'usia': 21, 'gaji': 3900000},\n",
    "    {'nama': 'Rizki Ananda', 'departemen': 'Keuangan', 'usia': 20, 'gaji': 3700000}\n",
    "]\n",
    "\n",
    "collection.insert_many(karyawan_baru)\n",
    "print(\"✅ Data karyawan baru berhasil ditambahkan!\")"
   ]
  },
  {
   "cell_type": "code",
   "execution_count": 34,
   "id": "85db78aa-23ce-4bc9-a92c-466efb69f7c1",
   "metadata": {},
   "outputs": [
    {
     "name": "stdout",
     "output_type": "stream",
     "text": [
      "5 Karyawan dengan gaji tertinggi di setiap departemen:\n",
      "\n",
      "Departemen: HRD\n",
      "  - Reza Maulana | Usia: 35 | Gaji: Rp5,800,000\n",
      "  - Fitriani | Usia: 32 | Gaji: Rp5,600,000\n",
      "  - Ratna Sari | Usia: 30 | Gaji: Rp5,400,000\n",
      "  - Andi Pratama | Usia: 27 | Gaji: Rp5,200,000\n",
      "  - Dwi Handoko | Usia: 28 | Gaji: Rp5,100,000\n",
      "\n",
      "Departemen: Keuangan\n",
      "  - Rina Ayu | Usia: 35 | Gaji: Rp6,200,000\n",
      "  - Agus Prabowo | Usia: 30 | Gaji: Rp6,100,000\n",
      "  - Slamet Riyadi | Usia: 32 | Gaji: Rp5,200,000\n",
      "  - Dian Puspita | Usia: 28 | Gaji: Rp5,000,000\n",
      "  - Rudi Hartono | Usia: 25 | Gaji: Rp4,800,000\n",
      "\n",
      "Departemen: Pemasaran\n",
      "  - Tania Putri | Usia: 34 | Gaji: Rp6,700,000\n",
      "  - Fajar Nugroho | Usia: 29 | Gaji: Rp6,500,000\n",
      "  - Ahmad Zulkifli | Usia: 31 | Gaji: Rp6,200,000\n",
      "  - Riko Santosa | Usia: 28 | Gaji: Rp6,100,000\n",
      "  - Fitriani | Usia: 30 | Gaji: Rp6,000,000\n",
      "\n",
      "Departemen: IT\n",
      "  - Dewi Lestari | Usia: 35 | Gaji: Rp7,500,000\n",
      "  - Teguh Saputra | Usia: 29 | Gaji: Rp7,200,000\n",
      "  - Nur Aini | Usia: 33 | Gaji: Rp7,000,000\n",
      "  - Andika Pratama | Usia: 27 | Gaji: Rp6,800,000\n",
      "  - Siti Rahma | Usia: 31 | Gaji: Rp6,500,000\n",
      "\n"
     ]
    }
   ],
   "source": [
    "pipeline = [\n",
    "    # Kelompokkan berdasarkan departemen\n",
    "    {\"$sort\": {\"departemen\": 1, \"gaji\": -1}},  # urutkan dulu per departemen dan gaji tertinggi\n",
    "    # Kelompokkan per departemen dan simpan daftar karyawan\n",
    "    {\"$group\": {\n",
    "        \"_id\": \"$departemen\",\n",
    "        \"karyawan\": {\n",
    "            \"$push\": {\n",
    "                \"nama\": \"$nama\",\n",
    "                \"usia\": \"$usia\",\n",
    "                \"gaji\": \"$gaji\"\n",
    "            }\n",
    "        }\n",
    "    }},\n",
    "    # Ambil hanya 5 karyawan pertama dari setiap departemen\n",
    "    {\"$project\": {\n",
    "        \"_id\": 1,\n",
    "        \"top5_karyawan\": {\"$slice\": [\"$karyawan\", 5]}\n",
    "    }}\n",
    "]\n",
    "\n",
    "hasil = list(collection.aggregate(pipeline))\n",
    "\n",
    "print(\"5 Karyawan dengan gaji tertinggi di setiap departemen:\\n\")\n",
    "for dept in hasil:\n",
    "    print(f\"Departemen: {dept['_id']}\")\n",
    "    for k in dept['top5_karyawan']:\n",
    "        print(f\"  - {k['nama']} | Usia: {k['usia']} | Gaji: Rp{k['gaji']:,}\")\n",
    "    print()\n"
   ]
  },
  {
   "cell_type": "code",
   "execution_count": null,
   "id": "b5b11e73-a365-4aba-b439-08aa68e3ef94",
   "metadata": {},
   "outputs": [],
   "source": []
  },
  {
   "cell_type": "code",
   "execution_count": null,
   "id": "11a60dd0-b108-48ca-9976-212b57d75d9b",
   "metadata": {},
   "outputs": [],
   "source": []
  }
 ],
 "metadata": {
  "kernelspec": {
   "display_name": "Python 3 (ipykernel)",
   "language": "python",
   "name": "python3"
  },
  "language_info": {
   "codemirror_mode": {
    "name": "ipython",
    "version": 3
   },
   "file_extension": ".py",
   "mimetype": "text/x-python",
   "name": "python",
   "nbconvert_exporter": "python",
   "pygments_lexer": "ipython3",
   "version": "3.13.5"
  }
 },
 "nbformat": 4,
 "nbformat_minor": 5
}
