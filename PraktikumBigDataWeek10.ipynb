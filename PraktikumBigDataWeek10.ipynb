{
 "cells": [
  {
   "cell_type": "code",
   "execution_count": 18,
   "id": "20007fca-f940-4f2a-93fe-62b68a321ed2",
   "metadata": {},
   "outputs": [
    {
     "name": "stdout",
     "output_type": "stream",
     "text": [
      "Connected to MongoDB\n"
     ]
    }
   ],
   "source": [
    "from pymongo import MongoClient\n",
    "\n",
    "# Inisialisasi client dan koneksi ke database\n",
    "client = MongoClient('mongodb://localhost:27017/')\n",
    "db = client['company_db']\n",
    "collection = db['employees']\n",
    "\n",
    "# Contoh untuk memastikan koneksi\n",
    "print('Connected to MongoDB')\n"
   ]
  },
  {
   "cell_type": "code",
   "execution_count": 20,
   "id": "d34bff7d-ad27-4874-9d75-e6ddc6f473bb",
   "metadata": {},
   "outputs": [
    {
     "name": "stdout",
     "output_type": "stream",
     "text": [
      "✅ Data karyawan berhasil diperbarui\n",
      "{'_id': ObjectId('6902c98a325ec8774e8fad52'), 'nama': 'Budi Santoso', 'departemen': 'Keuangan', 'usia': 29, 'gaji': 4500000}\n",
      "{'_id': ObjectId('6902c98a325ec8774e8fad53'), 'nama': 'Rudi Hartono', 'departemen': 'Keuangan', 'usia': 25, 'gaji': 4800000}\n",
      "{'_id': ObjectId('6902c98a325ec8774e8fad54'), 'nama': 'Slamet Riyadi', 'departemen': 'Keuangan', 'usia': 32, 'gaji': 5200000}\n",
      "{'_id': ObjectId('6902c98a325ec8774e8fad55'), 'nama': 'Dian Puspita', 'departemen': 'Keuangan', 'usia': 28, 'gaji': 5000000}\n",
      "{'_id': ObjectId('6902c98a325ec8774e8fad56'), 'nama': 'Rina Ayu', 'departemen': 'Keuangan', 'usia': 35, 'gaji': 6200000}\n",
      "{'_id': ObjectId('6902c98a325ec8774e8fad57'), 'nama': 'Agus Prabowo', 'departemen': 'Keuangan', 'usia': 30, 'gaji': 6100000}\n",
      "{'_id': ObjectId('6902c98a325ec8774e8fad58'), 'nama': 'Siti Rahma', 'departemen': 'IT', 'usia': 31, 'gaji': 6500000}\n",
      "{'_id': ObjectId('6902c98a325ec8774e8fad59'), 'nama': 'Dewi Lestari', 'departemen': 'IT', 'usia': 35, 'gaji': 7500000}\n",
      "{'_id': ObjectId('6902c98a325ec8774e8fad5a'), 'nama': 'Teguh Saputra', 'departemen': 'IT', 'usia': 29, 'gaji': 7200000}\n",
      "{'_id': ObjectId('6902c98a325ec8774e8fad5b'), 'nama': 'Andika Pratama', 'departemen': 'IT', 'usia': 27, 'gaji': 6800000}\n",
      "{'_id': ObjectId('6902c98a325ec8774e8fad5c'), 'nama': 'Yusuf Hadi', 'departemen': 'IT', 'usia': 26, 'gaji': 6300000}\n",
      "{'_id': ObjectId('6902c98a325ec8774e8fad5d'), 'nama': 'Nur Aini', 'departemen': 'IT', 'usia': 33, 'gaji': 7000000}\n",
      "{'_id': ObjectId('6902c98a325ec8774e8fad5e'), 'nama': 'Andi Pratama', 'departemen': 'HRD', 'usia': 27, 'gaji': 5200000}\n",
      "{'_id': ObjectId('6902c98a325ec8774e8fad5f'), 'nama': 'Ratna Sari', 'departemen': 'HRD', 'usia': 30, 'gaji': 5400000}\n",
      "{'_id': ObjectId('6902c98a325ec8774e8fad60'), 'nama': 'Dwi Handoko', 'departemen': 'HRD', 'usia': 28, 'gaji': 5100000}\n",
      "{'_id': ObjectId('6902c98a325ec8774e8fad61'), 'nama': 'Fitriani', 'departemen': 'HRD', 'usia': 32, 'gaji': 5600000}\n",
      "{'_id': ObjectId('6902c98a325ec8774e8fad62'), 'nama': 'Reza Maulana', 'departemen': 'HRD', 'usia': 35, 'gaji': 5800000}\n",
      "{'_id': ObjectId('6902c98a325ec8774e8fad63'), 'nama': 'Fitriani', 'departemen': 'Pemasaran', 'usia': 30, 'gaji': 6000000}\n",
      "{'_id': ObjectId('6902c98a325ec8774e8fad64'), 'nama': 'Lina Marlina', 'departemen': 'Pemasaran', 'usia': 27, 'gaji': 5900000}\n",
      "{'_id': ObjectId('6902c98a325ec8774e8fad65'), 'nama': 'Fajar Nugroho', 'departemen': 'Pemasaran', 'usia': 29, 'gaji': 6500000}\n",
      "{'_id': ObjectId('6902c98a325ec8774e8fad66'), 'nama': 'Ahmad Zulkifli', 'departemen': 'Pemasaran', 'usia': 31, 'gaji': 6200000}\n",
      "{'_id': ObjectId('6902c98a325ec8774e8fad67'), 'nama': 'Tania Putri', 'departemen': 'Pemasaran', 'usia': 34, 'gaji': 6700000}\n",
      "{'_id': ObjectId('6902c98a325ec8774e8fad68'), 'nama': 'Riko Santosa', 'departemen': 'Pemasaran', 'usia': 28, 'gaji': 6100000}\n"
     ]
    }
   ],
   "source": [
    "employee_data = [\n",
    "    # Departemen Keuangan\n",
    "    {'nama': 'Budi Santoso', 'departemen': 'Keuangan', 'usia': 29, 'gaji': 4500000},\n",
    "    {'nama': 'Rudi Hartono', 'departemen': 'Keuangan', 'usia': 25, 'gaji': 4800000},\n",
    "    {'nama': 'Slamet Riyadi', 'departemen': 'Keuangan', 'usia': 32, 'gaji': 5200000},\n",
    "    {'nama': 'Dian Puspita', 'departemen': 'Keuangan', 'usia': 28, 'gaji': 5000000},\n",
    "    {'nama': 'Rina Ayu', 'departemen': 'Keuangan', 'usia': 35, 'gaji': 6200000},\n",
    "    {'nama': 'Agus Prabowo', 'departemen': 'Keuangan', 'usia': 30, 'gaji': 6100000},\n",
    "\n",
    "    # Departemen IT\n",
    "    {'nama': 'Siti Rahma', 'departemen': 'IT', 'usia': 31, 'gaji': 6500000},\n",
    "    {'nama': 'Dewi Lestari', 'departemen': 'IT', 'usia': 35, 'gaji': 7500000},\n",
    "    {'nama': 'Teguh Saputra', 'departemen': 'IT', 'usia': 29, 'gaji': 7200000},\n",
    "    {'nama': 'Andika Pratama', 'departemen': 'IT', 'usia': 27, 'gaji': 6800000},\n",
    "    {'nama': 'Yusuf Hadi', 'departemen': 'IT', 'usia': 26, 'gaji': 6300000},\n",
    "    {'nama': 'Nur Aini', 'departemen': 'IT', 'usia': 33, 'gaji': 7000000},\n",
    "\n",
    "    # Departemen HRD\n",
    "    {'nama': 'Andi Pratama', 'departemen': 'HRD', 'usia': 27, 'gaji': 5200000},\n",
    "    {'nama': 'Ratna Sari', 'departemen': 'HRD', 'usia': 30, 'gaji': 5400000},\n",
    "    {'nama': 'Dwi Handoko', 'departemen': 'HRD', 'usia': 28, 'gaji': 5100000},\n",
    "    {'nama': 'Fitriani', 'departemen': 'HRD', 'usia': 32, 'gaji': 5600000},\n",
    "    {'nama': 'Reza Maulana', 'departemen': 'HRD', 'usia': 35, 'gaji': 5800000},\n",
    "\n",
    "    # Departemen Pemasaran\n",
    "    {'nama': 'Fitriani', 'departemen': 'Pemasaran', 'usia': 30, 'gaji': 6000000},\n",
    "    {'nama': 'Lina Marlina', 'departemen': 'Pemasaran', 'usia': 27, 'gaji': 5900000},\n",
    "    {'nama': 'Fajar Nugroho', 'departemen': 'Pemasaran', 'usia': 29, 'gaji': 6500000},\n",
    "    {'nama': 'Ahmad Zulkifli', 'departemen': 'Pemasaran', 'usia': 31, 'gaji': 6200000},\n",
    "    {'nama': 'Tania Putri', 'departemen': 'Pemasaran', 'usia': 34, 'gaji': 6700000},\n",
    "    {'nama': 'Riko Santosa', 'departemen': 'Pemasaran', 'usia': 28, 'gaji': 6100000}\n",
    "]\n",
    "\n",
    "collection.insert_many(employee_data)\n",
    "print(\"✅ Data karyawan berhasil diperbarui\")\n",
    "\n",
    "for employee in collection.find():\n",
    "    print(employee)"
   ]
  },
  {
   "cell_type": "code",
   "execution_count": 27,
   "id": "f11ebe4f-f1df-4b95-9f42-d2d953b1a21e",
   "metadata": {},
   "outputs": [
    {
     "name": "stdout",
     "output_type": "stream",
     "text": [
      "✅ Data karyawan baru berhasil ditambahkan!\n"
     ]
    }
   ],
   "source": [
    "# ===== TAMBAH DATA KARYAWAN TERMASUK YANG USIA < 25 =====\n",
    "karyawan_baru = [\n",
    "    {'nama': 'Rina Sari', 'departemen': 'Keuangan', 'usia': 23, 'gaji': 4200000},\n",
    "    {'nama': 'Fajar Hidayat', 'departemen': 'IT', 'usia': 24, 'gaji': 5500000},\n",
    "    {'nama': 'Lutfi Ramadhan', 'departemen': 'Pemasaran', 'usia': 22, 'gaji': 4000000},\n",
    "    {'nama': 'Nadia Putri', 'departemen': 'HRD', 'usia': 21, 'gaji': 3900000},\n",
    "    {'nama': 'Rizki Ananda', 'departemen': 'Keuangan', 'usia': 20, 'gaji': 3700000}\n",
    "]\n",
    "\n",
    "collection.insert_many(karyawan_baru)\n",
    "print(\"✅ Data karyawan baru berhasil ditambahkan!\")"
   ]
  },
  {
   "cell_type": "code",
   "execution_count": 28,
   "id": "1f1a20ca-8659-4e07-afd1-4d7057f6bdea",
   "metadata": {},
   "outputs": [
    {
     "name": "stdout",
     "output_type": "stream",
     "text": [
      "{'_id': 'IT', 'rata_gaji': 6685714.285714285}\n",
      "{'_id': 'Keuangan', 'rata_gaji': 4962500.0}\n",
      "{'_id': 'Pemasaran', 'rata_gaji': 5914285.714285715}\n",
      "{'_id': 'HRD', 'rata_gaji': 5166666.666666667}\n"
     ]
    }
   ],
   "source": [
    "# Query Aggregation untuk mencari rata-rata gaji per departemen\n",
    "pipeline = [\n",
    "    {'$group': {'_id': '$departemen', 'rata_gaji': {'$avg': '$gaji'}}}\n",
    "]\n",
    "for result in collection.aggregate(pipeline):\n",
    "    print(result)"
   ]
  },
  {
   "cell_type": "code",
   "execution_count": 10,
   "id": "f3604871-1b0c-4fd6-9911-be67c2b6e747",
   "metadata": {},
   "outputs": [
    {
     "name": "stdout",
     "output_type": "stream",
     "text": [
      "✅ 10 produk berhasil dimasukkan\n"
     ]
    }
   ],
   "source": [
    "produk = db['produk']\n",
    "\n",
    "data_produk = [\n",
    "    {'nama': 'Kopi Kapal Api', 'kategori': 'Minuman', 'harga': 12000},\n",
    "    {'nama': 'Indomie Goreng', 'kategori': 'Makanan', 'harga': 3500},\n",
    "    {'nama': 'Teh Botol Sosro', 'kategori': 'Minuman', 'harga': 6000},\n",
    "    {'nama': 'Rinso Cair', 'kategori': 'Kebutuhan Rumah', 'harga': 18000},\n",
    "    {'nama': 'Sunlight', 'kategori': 'Kebutuhan Rumah', 'harga': 10000},\n",
    "    {'nama': 'Pulpen Pilot', 'kategori': 'Alat Tulis', 'harga': 5000},\n",
    "    {'nama': 'Buku Tulis Sinar Dunia', 'kategori': 'Alat Tulis', 'harga': 7000},\n",
    "    {'nama': 'Good Day Cappuccino', 'kategori': 'Minuman', 'harga': 8000},\n",
    "    {'nama': 'Chitato', 'kategori': 'Makanan', 'harga': 9000},\n",
    "    {'nama': 'Pepsodent', 'kategori': 'Kebutuhan Rumah', 'harga': 12000}\n",
    "]\n",
    "produk.insert_many(data_produk)\n",
    "print(\"✅ 10 produk berhasil dimasukkan\")\n"
   ]
  },
  {
   "cell_type": "code",
   "execution_count": 11,
   "id": "dccebd96-1002-4686-ac7a-561d23fc8fd3",
   "metadata": {},
   "outputs": [
    {
     "name": "stdout",
     "output_type": "stream",
     "text": [
      "💰 Rata-rata harga produk: 9050.00\n",
      "\n",
      "Produk dengan harga di atas rata-rata:\n",
      "{'_id': ObjectId('6902be000f528dcaeebc70f0'), 'nama': 'Kopi Kapal Api', 'kategori': 'Minuman', 'harga': 12000}\n",
      "{'_id': ObjectId('6902be000f528dcaeebc70f3'), 'nama': 'Rinso Cair', 'kategori': 'Kebutuhan Rumah', 'harga': 18000}\n",
      "{'_id': ObjectId('6902be000f528dcaeebc70f4'), 'nama': 'Sunlight', 'kategori': 'Kebutuhan Rumah', 'harga': 10000}\n",
      "{'_id': ObjectId('6902be000f528dcaeebc70f9'), 'nama': 'Pepsodent', 'kategori': 'Kebutuhan Rumah', 'harga': 12000}\n"
     ]
    }
   ],
   "source": [
    "rata_harga = list(produk.aggregate([\n",
    "    {'$group': {'_id': None, 'rata_harga': {'$avg': '$harga'}}}\n",
    "]))[0]['rata_harga']\n",
    "\n",
    "print(f\"💰 Rata-rata harga produk: {rata_harga:.2f}\\n\")\n",
    "print(\"Produk dengan harga di atas rata-rata:\")\n",
    "for item in produk.find({'harga': {'$gt': rata_harga}}):\n",
    "    print(item)\n"
   ]
  },
  {
   "cell_type": "code",
   "execution_count": 13,
   "id": "1eab30e6-be12-4f3e-8647-6cd257ea1d2a",
   "metadata": {},
   "outputs": [
    {
     "name": "stdout",
     "output_type": "stream",
     "text": [
      "{'_id': 'Kebutuhan Rumah', 'jumlah_produk': 3}\n",
      "{'_id': 'Minuman', 'jumlah_produk': 3}\n",
      "{'_id': 'Alat Tulis', 'jumlah_produk': 2}\n",
      "{'_id': 'Makanan', 'jumlah_produk': 2}\n"
     ]
    }
   ],
   "source": [
    "pipeline = [\n",
    "    {'$group': {'_id': '$kategori', 'jumlah_produk': {'$sum': 1}}}\n",
    "]\n",
    "\n",
    "for hasil in produk.aggregate(pipeline):\n",
    "    print(hasil)"
   ]
  },
  {
   "cell_type": "code",
   "execution_count": 29,
   "id": "85db78aa-23ce-4bc9-a92c-466efb69f7c1",
   "metadata": {},
   "outputs": [
    {
     "name": "stdout",
     "output_type": "stream",
     "text": [
      "5 Karyawan dengan gaji tertinggi di setiap departemen:\n",
      "\n",
      "Departemen: Keuangan\n",
      "  - Rina Ayu | Usia: 35 | Gaji: Rp6,200,000\n",
      "  - Agus Prabowo | Usia: 30 | Gaji: Rp6,100,000\n",
      "  - Slamet Riyadi | Usia: 32 | Gaji: Rp5,200,000\n",
      "  - Dian Puspita | Usia: 28 | Gaji: Rp5,000,000\n",
      "  - Rudi Hartono | Usia: 25 | Gaji: Rp4,800,000\n",
      "\n",
      "Departemen: IT\n",
      "  - Dewi Lestari | Usia: 35 | Gaji: Rp7,500,000\n",
      "  - Teguh Saputra | Usia: 29 | Gaji: Rp7,200,000\n",
      "  - Nur Aini | Usia: 33 | Gaji: Rp7,000,000\n",
      "  - Andika Pratama | Usia: 27 | Gaji: Rp6,800,000\n",
      "  - Siti Rahma | Usia: 31 | Gaji: Rp6,500,000\n",
      "\n",
      "Departemen: Pemasaran\n",
      "  - Tania Putri | Usia: 34 | Gaji: Rp6,700,000\n",
      "  - Fajar Nugroho | Usia: 29 | Gaji: Rp6,500,000\n",
      "  - Ahmad Zulkifli | Usia: 31 | Gaji: Rp6,200,000\n",
      "  - Riko Santosa | Usia: 28 | Gaji: Rp6,100,000\n",
      "  - Fitriani | Usia: 30 | Gaji: Rp6,000,000\n",
      "\n",
      "Departemen: HRD\n",
      "  - Reza Maulana | Usia: 35 | Gaji: Rp5,800,000\n",
      "  - Fitriani | Usia: 32 | Gaji: Rp5,600,000\n",
      "  - Ratna Sari | Usia: 30 | Gaji: Rp5,400,000\n",
      "  - Andi Pratama | Usia: 27 | Gaji: Rp5,200,000\n",
      "  - Dwi Handoko | Usia: 28 | Gaji: Rp5,100,000\n",
      "\n"
     ]
    }
   ],
   "source": [
    "pipeline = [\n",
    "    # Kelompokkan berdasarkan departemen\n",
    "    {\"$sort\": {\"departemen\": 1, \"gaji\": -1}},  # urutkan dulu per departemen dan gaji tertinggi\n",
    "    # Kelompokkan per departemen dan simpan daftar karyawan\n",
    "    {\"$group\": {\n",
    "        \"_id\": \"$departemen\",\n",
    "        \"karyawan\": {\n",
    "            \"$push\": {\n",
    "                \"nama\": \"$nama\",\n",
    "                \"usia\": \"$usia\",\n",
    "                \"gaji\": \"$gaji\"\n",
    "            }\n",
    "        }\n",
    "    }},\n",
    "    # Ambil hanya 5 karyawan pertama dari setiap departemen\n",
    "    {\"$project\": {\n",
    "        \"_id\": 1,\n",
    "        \"top5_karyawan\": {\"$slice\": [\"$karyawan\", 5]}\n",
    "    }}\n",
    "]\n",
    "\n",
    "hasil = list(collection.aggregate(pipeline))\n",
    "\n",
    "print(\"5 Karyawan dengan gaji tertinggi di setiap departemen:\\n\")\n",
    "for dept in hasil:\n",
    "    print(f\"Departemen: {dept['_id']}\")\n",
    "    for k in dept['top5_karyawan']:\n",
    "        print(f\"  - {k['nama']} | Usia: {k['usia']} | Gaji: Rp{k['gaji']:,}\")\n",
    "    print()\n"
   ]
  },
  {
   "cell_type": "code",
   "execution_count": 30,
   "id": "9a1a29ec-97c0-4b62-bd53-b23414d6276a",
   "metadata": {},
   "outputs": [
    {
     "name": "stdout",
     "output_type": "stream",
     "text": [
      "🗑️ Jumlah karyawan yang dihapus: 5\n"
     ]
    }
   ],
   "source": [
    "# ===== HAPUS KARYAWAN DI BAWAH USIA 25 =====\n",
    "hasil_hapus = collection.delete_many({'usia': {'$lt': 25}})\n",
    "\n",
    "print(f\"🗑️ Jumlah karyawan yang dihapus: {hasil_hapus.deleted_count}\")"
   ]
  },
  {
   "cell_type": "code",
   "execution_count": 31,
   "id": "007e485c-27cf-450b-b3a9-e115a0e6272e",
   "metadata": {},
   "outputs": [
    {
     "name": "stdout",
     "output_type": "stream",
     "text": [
      "📋 LAPORAN GAJI & USIA PER DEPARTEMEN:\n",
      "\n",
      "Departemen: HRD\n",
      "  - Total Gaji: Rp27,100,000\n",
      "  - Rata-rata Usia: 30.40 tahun\n",
      "  - Jumlah Karyawan: 5\n",
      "\n",
      "Departemen: IT\n",
      "  - Total Gaji: Rp41,300,000\n",
      "  - Rata-rata Usia: 30.17 tahun\n",
      "  - Jumlah Karyawan: 6\n",
      "\n",
      "Departemen: Keuangan\n",
      "  - Total Gaji: Rp31,800,000\n",
      "  - Rata-rata Usia: 29.83 tahun\n",
      "  - Jumlah Karyawan: 6\n",
      "\n",
      "Departemen: Pemasaran\n",
      "  - Total Gaji: Rp37,400,000\n",
      "  - Rata-rata Usia: 29.83 tahun\n",
      "  - Jumlah Karyawan: 6\n",
      "\n"
     ]
    }
   ],
   "source": [
    "# ===== TOTAL GAJI DAN RATA-RATA USIA PER DEPARTEMEN =====\n",
    "pipeline = [\n",
    "    {\n",
    "        '$group': {\n",
    "            '_id': '$departemen',\n",
    "            'total_gaji': {'$sum': '$gaji'},\n",
    "            'rata_usia': {'$avg': '$usia'},\n",
    "            'jumlah_karyawan': {'$sum': 1}\n",
    "        }\n",
    "    },\n",
    "    {\n",
    "        '$sort': {'_id': 1}\n",
    "    }\n",
    "]\n",
    "\n",
    "laporan = list(collection.aggregate(pipeline))\n",
    "\n",
    "print(\"📋 LAPORAN GAJI & USIA PER DEPARTEMEN:\\n\")\n",
    "for dept in laporan:\n",
    "    print(f\"Departemen: {dept['_id']}\")\n",
    "    print(f\"  - Total Gaji: Rp{dept['total_gaji']:,}\")\n",
    "    print(f\"  - Rata-rata Usia: {dept['rata_usia']:.2f} tahun\")\n",
    "    print(f\"  - Jumlah Karyawan: {dept['jumlah_karyawan']}\")\n",
    "    print()\n"
   ]
  },
  {
   "cell_type": "code",
   "execution_count": null,
   "id": "ab766f9d-9083-4a73-87ee-a3d26485e5d3",
   "metadata": {},
   "outputs": [],
   "source": []
  }
 ],
 "metadata": {
  "kernelspec": {
   "display_name": "Python 3 (ipykernel)",
   "language": "python",
   "name": "python3"
  },
  "language_info": {
   "codemirror_mode": {
    "name": "ipython",
    "version": 3
   },
   "file_extension": ".py",
   "mimetype": "text/x-python",
   "name": "python",
   "nbconvert_exporter": "python",
   "pygments_lexer": "ipython3",
   "version": "3.13.5"
  }
 },
 "nbformat": 4,
 "nbformat_minor": 5
}
